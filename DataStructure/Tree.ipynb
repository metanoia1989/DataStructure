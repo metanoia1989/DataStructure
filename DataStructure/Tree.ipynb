{
 "cells": [
  {
   "cell_type": "markdown",
   "id": "83e97037",
   "metadata": {},
   "source": [
    "# B-Tree\n",
    "B tree is a self-balancing search tree and contains multiple nodes which keep data in sorted order. Each node has 2 or more children and consists of multiple keys.\n",
    "**Properties**\n",
    "1. Every node x has the following:\n",
    " - x.n (the number of keys)\n",
    " - x.keyᵢ (the keys stored in ascending order)\n",
    " - x.leaf (whether x is a leaf or not)\n",
    "2. Every node x has (x.n + 1) children.\n",
    "3. The keys x.keyᵢ separate the ranges of keys stored in each sub-tree.\n",
    "4. All the leaves have the same depth, which is the tree height.\n",
    "5. Nodes have lower and upper bounds on the number of keys that can be stored. Here we consider a value t≥2, called minimum degree (or branching factor) of the B tree.\n",
    " - The root must have at least one key.\n",
    " - Every other node must have at least (t-1) keys and at most (2t-1) keys. Hence, every node will have at least t  children and at most 2t children. We say the node is full if it has (2t-1) keys."
   ]
  }
 ],
 "metadata": {
  "kernelspec": {
   "display_name": "Python 3 (ipykernel)",
   "language": "python",
   "name": "python3"
  },
  "language_info": {
   "codemirror_mode": {
    "name": "ipython",
    "version": 3
   },
   "file_extension": ".py",
   "mimetype": "text/x-python",
   "name": "python",
   "nbconvert_exporter": "python",
   "pygments_lexer": "ipython3",
   "version": "3.9.5"
  }
 },
 "nbformat": 4,
 "nbformat_minor": 5
}
